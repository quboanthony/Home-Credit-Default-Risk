{
  "cells": [
    {
      "metadata": {
        "_uuid": "2c30a8dbc8d6fc08413197b7130923aae1377c41"
      },
      "cell_type": "markdown",
      "source": ""
    },
    {
      "metadata": {
        "_uuid": "3e6abc28b0d20d01aa461714c1cd8835e477373a"
      },
      "cell_type": "markdown",
      "source": ""
    },
    {
      "metadata": {
        "trusted": false,
        "_uuid": "b7010a2c2ed68f7f00549e2a5cb300fd3ab76eb6"
      },
      "cell_type": "code",
      "source": "import numpy as np\nimport pandas as pd\n\nfrom sklearn.preprocessing import LabelEncoder\n\nimport os\n\nimport warnings\nwarnings.filterwarnings('ignore')\n\nimport matplotlib.pyplot as plt\nimport seaborn as sns",
      "execution_count": null,
      "outputs": []
    },
    {
      "metadata": {
        "trusted": false,
        "_uuid": "801ce82e00d3b842fafe348d2898980e258af794"
      },
      "cell_type": "code",
      "source": "print(os.listdir('../input/'))",
      "execution_count": null,
      "outputs": []
    },
    {
      "metadata": {
        "trusted": false,
        "_uuid": "c0884323555e543fe8c58b4ea16fc0fc92a5eaf6"
      },
      "cell_type": "code",
      "source": "app_train=pd.read_csv('../input/application_train.csv')\nprint(app_train.shape)\napp_train.head()",
      "execution_count": null,
      "outputs": []
    },
    {
      "metadata": {
        "_uuid": "d40430e651f5f947e43d6583fa1eaf270d1d874d"
      },
      "cell_type": "markdown",
      "source": "This training data has 307511 observations, that each row is a separate loan and 122 features (variables). Label is TARGET"
    },
    {
      "metadata": {
        "trusted": false,
        "_uuid": "1bc22e61cc03e45d77c0fd152ed3ffbe310f3428"
      },
      "cell_type": "code",
      "source": "app_test=pd.read_csv('../input/application_test.csv')\nprint(app_test.shape)\napp_test.head()",
      "execution_count": null,
      "outputs": []
    },
    {
      "metadata": {
        "_uuid": "4af8f84a1beaab123b1236b25fe6c345330727f4"
      },
      "cell_type": "markdown",
      "source": "This testing data has 48744 observations, which is considerably smaller and lacks TARGET column."
    },
    {
      "metadata": {
        "_uuid": "a8b1199121012d1d4c6814c87aa3d0c821296ed1"
      },
      "cell_type": "markdown",
      "source": "# Explortary Data Analysis"
    },
    {
      "metadata": {
        "_uuid": "e70023fe52cfd27360cf129435d5e874037bb50a"
      },
      "cell_type": "markdown",
      "source": "## Distribution of Target column"
    },
    {
      "metadata": {
        "trusted": false,
        "_uuid": "21dec0a383dd7c1c678fb94844823d24212a2e1b"
      },
      "cell_type": "code",
      "source": "app_train['TARGET'].value_counts()",
      "execution_count": null,
      "outputs": []
    },
    {
      "metadata": {
        "trusted": false,
        "_uuid": "6fa927228d3f01e596d9c1d1db7b5058f6d74a60"
      },
      "cell_type": "code",
      "source": "app_train['TARGET'].plot.hist()",
      "execution_count": null,
      "outputs": []
    },
    {
      "metadata": {
        "_uuid": "7e1594696cf8f31f6c67bdcf10eb61397b62dac7"
      },
      "cell_type": "markdown",
      "source": "From the distribution of the target column, this is a highly imbalanced classification problem."
    },
    {
      "metadata": {
        "_uuid": "b7f124ae84d0555399798010ddbbd4f1140743a5"
      },
      "cell_type": "markdown",
      "source": "## Examine Missing Values"
    },
    {
      "metadata": {
        "trusted": false,
        "_uuid": "8633449354dfeccfe24ace18ceaff34e9a93efb3"
      },
      "cell_type": "code",
      "source": "def missing_values(df):\n    missing_count=df.isnull().sum()\n    missing_count_percent=df.isnull().sum()/len(df)\n    \n    missing_df=pd.DataFrame(missing_count,columns=['missing count'])    \n    missing_df['missing frequency']=list(missing_count_percent)\n    missing_df['missing frequency']=missing_df['missing frequency'].apply(lambda x: round(x,2))\n    missing_df=missing_df.loc[missing_df['missing count']!=0]\n    \n    missing_df.sort_values('missing frequency',ascending=False,inplace=True)\n    \n    print('There are %d features possess missing values'%len(missing_df))\n    \n    return missing_df",
      "execution_count": null,
      "outputs": []
    },
    {
      "metadata": {
        "trusted": false,
        "_uuid": "4a86dd2c1802cc5db311f45394dab013329bdd8e"
      },
      "cell_type": "code",
      "source": "mv_df=missing_values(app_train)",
      "execution_count": null,
      "outputs": []
    },
    {
      "metadata": {
        "trusted": false,
        "_uuid": "77ab576fb0057fabd0e6c4cb4d4904dc7c08ffa3"
      },
      "cell_type": "code",
      "source": "display(mv_df.head(10))",
      "execution_count": null,
      "outputs": []
    },
    {
      "metadata": {
        "trusted": false,
        "_uuid": "f2afb39ba08969856cf2a896f9c9703947a8e997"
      },
      "cell_type": "code",
      "source": "",
      "execution_count": null,
      "outputs": []
    },
    {
      "metadata": {
        "_uuid": "43bd66cebf66aa9480150a71dfbb2ccd9a3c4d11"
      },
      "cell_type": "markdown",
      "source": "## Column Types"
    },
    {
      "metadata": {
        "trusted": false,
        "_uuid": "0ba0f28831db418d9ed9c8e7619e8b615523dcaf"
      },
      "cell_type": "code",
      "source": "app_train.dtypes.value_counts()",
      "execution_count": null,
      "outputs": []
    },
    {
      "metadata": {
        "trusted": false,
        "_uuid": "ac02222aa272892d8ae7d6c43bcf61ff09ac63f5"
      },
      "cell_type": "code",
      "source": "app_train.select_dtypes('object').apply(pd.Series.nunique, axis=0)",
      "execution_count": null,
      "outputs": []
    },
    {
      "metadata": {
        "_uuid": "7ff867eddffe586b992fd11aa63d701be1ebb7e9"
      },
      "cell_type": "markdown",
      "source": "## Label coding and One-Hot coding"
    },
    {
      "metadata": {
        "trusted": false,
        "_uuid": "538720caf05b0d94106d20f916b7d2ad97556dca"
      },
      "cell_type": "code",
      "source": "le=LabelEncoder()\nle_count=0\n\nfor col in app_train.columns:\n    if app_train[col].dtypes=='object':\n        if len(list(app_train[col].unique()))<=2:\n            le.fit(app_train[col])\n            app_train[col]=le.transform(app_train[col])\n            app_test[col]=le.transform(app_test[col])\n            \n            le_count+=1\n            \nprint('%d columns were label encoded.'%le_count)",
      "execution_count": null,
      "outputs": []
    },
    {
      "metadata": {
        "trusted": false,
        "_uuid": "ff3258b3476bda885e8cd6f90e69e50953756396"
      },
      "cell_type": "code",
      "source": "app_train=pd.get_dummies(app_train)\napp_test=pd.get_dummies(app_test)\n\nprint('Trainning Feature shape:',app_train.shape)\nprint('Testing Feature shape:',app_test.shape)",
      "execution_count": null,
      "outputs": []
    },
    {
      "metadata": {
        "_uuid": "eaa4d0f86a1f32aa4c910cda553835b50a66de7d"
      },
      "cell_type": "markdown",
      "source": "## Aligning Training and Testing Data"
    },
    {
      "metadata": {
        "trusted": false,
        "_uuid": "6df765818d9682ce59561469d02f209c7b017460"
      },
      "cell_type": "code",
      "source": "train_labels=app_train['TARGET'].copy()\napp_train,app_test=app_train.align(app_test, join='inner',axis=1)\n\napp_train['TARGET']=train_labels\nprint('Trainning Feature shape:',app_train.shape)\nprint('Testing Feature shape:',app_test.shape)",
      "execution_count": null,
      "outputs": []
    },
    {
      "metadata": {
        "_uuid": "6717d47a0c1d9b4f5c240f8f24c853c3bafb437c"
      },
      "cell_type": "markdown",
      "source": "## Back to Exploratory Data Analysis"
    },
    {
      "metadata": {
        "trusted": false,
        "_uuid": "f531d07cae82bfa92a0ec02b6d562921f7750399"
      },
      "cell_type": "code",
      "source": "(app_train['DAYS_BIRTH']/-365).describe()",
      "execution_count": null,
      "outputs": []
    },
    {
      "metadata": {
        "trusted": false,
        "_uuid": "3e53201fdc3052478f3e01440ecab829dbeab892"
      },
      "cell_type": "code",
      "source": "(app_train['DAYS_EMPLOYED']).describe()",
      "execution_count": null,
      "outputs": []
    },
    {
      "metadata": {
        "trusted": false,
        "_uuid": "2375bb19868285b462fff0ca2cbf262cd3c7c59a"
      },
      "cell_type": "code",
      "source": "app_train['DAYS_EMPLOYED'].plot.hist(title='Days Employment Histogram')\nplt.xlabel('Days Employment')",
      "execution_count": null,
      "outputs": []
    },
    {
      "metadata": {
        "_uuid": "6aedef8d0db46a19de62cbefa4660719037fdb24"
      },
      "cell_type": "markdown",
      "source": "Is anomalous person has more default?"
    },
    {
      "metadata": {
        "trusted": false,
        "_uuid": "29d8add36dc55bf71acc347c17d1c37622ac23cf"
      },
      "cell_type": "code",
      "source": "anom=app_train[app_train['DAYS_EMPLOYED']==365243]\nnon_anom=app_train[app_train['DAYS_EMPLOYED']!=365243]\n\nprint('Rate of default for anomalous: %0.2f%%'%(100*anom['TARGET'].mean()))\n\nprint('Rate of default for non-anomalous: %0.2f%%'%(100*non_anom['TARGET'].mean()))\n\nprint('Total number of days employed anomalous person: %d'%len(anom))",
      "execution_count": null,
      "outputs": []
    },
    {
      "metadata": {
        "trusted": false,
        "_uuid": "efc38a8efcee79ed57a5cc0297c78400c6e9f85a"
      },
      "cell_type": "code",
      "source": "app_train['DAYS_EMPLOYED_ANOM']=app_train['DAYS_EMPLOYED']==365243\napp_train['DAYS_EMPLOYED'].replace({365243:np.nan},inplace=True)\napp_train['DAYS_EMPLOYED'].plot.hist(title='Days employed')",
      "execution_count": null,
      "outputs": []
    },
    {
      "metadata": {
        "trusted": false,
        "_uuid": "e91f8ccb9491a25b0a5e48358fcd2972742e808f"
      },
      "cell_type": "code",
      "source": "app_test['DAYS_EMPLOYED_ANOM']=app_test['DAYS_EMPLOYED']==365243\napp_test['DAYS_EMPLOYED'].replace({365243:np.nan},inplace=True)\n\nprint('Threre are %d anomous in %d test samples'%(app_test['DAYS_EMPLOYED_ANOM'].sum(),len(app_test)))",
      "execution_count": null,
      "outputs": []
    },
    {
      "metadata": {
        "trusted": false,
        "_uuid": "13c2075f82cf88b37b7d39d73b4ef3203bea4e48"
      },
      "cell_type": "code",
      "source": "correlation=app_train.corr()['TARGET'].sort_values()\n",
      "execution_count": null,
      "outputs": []
    },
    {
      "metadata": {
        "trusted": false,
        "_uuid": "427e46661fcae2c1a80a86013c725109f5b22d05"
      },
      "cell_type": "code",
      "source": "print('Most positively correlated:\\n',correlation.tail(15))\nprint('Most negatively correlated:\\n',correlation.head(15))",
      "execution_count": null,
      "outputs": []
    },
    {
      "metadata": {
        "_uuid": "83a7ea37dc80630ef58623ec47812cd55af9d8f6"
      },
      "cell_type": "markdown",
      "source": "## Effect of age in repayment"
    },
    {
      "metadata": {
        "trusted": false,
        "_uuid": "456af90ccdbeecdfa586849c4b08944847213aa9"
      },
      "cell_type": "code",
      "source": "app_train['DAYS_BIRTH']=abs(app_train['DAYS_BIRTH'])\n\napp_train['DAYS_BIRTH'].corr(app_train['TARGET'])",
      "execution_count": null,
      "outputs": []
    },
    {
      "metadata": {
        "trusted": false,
        "_uuid": "91878e3b3d3b179c7de15dfbeb6173c883eaa83d"
      },
      "cell_type": "code",
      "source": "plt.style.use('fivethirtyeight')\n\nplt.hist(app_train['DAYS_BIRTH']/365.,edgecolor='k',bins=25)\nplt.title('Age distribution')\nplt.xlabel('Age')\nplt.ylabel('Number')",
      "execution_count": null,
      "outputs": []
    },
    {
      "metadata": {
        "trusted": false,
        "_uuid": "12bfa260f4ddc143bfdc107c6a7e02dba416aa91"
      },
      "cell_type": "code",
      "source": "plt.figure(figsize=(10,7))\n\nsns.kdeplot(app_train.loc[app_train['TARGET']==0,'DAYS_BIRTH']/365,label='target=0')\nsns.kdeplot(app_train.loc[app_train['TARGET']==1,'DAYS_BIRTH']/365,label='target=1')\n\n\nplt.title('KDE of age')\nplt.xlabel('Age')\nplt.ylabel('kde')",
      "execution_count": null,
      "outputs": []
    },
    {
      "metadata": {
        "trusted": false,
        "_uuid": "35eac15571b33de686cbfea53d342412269b3d5c"
      },
      "cell_type": "code",
      "source": "age_data=app_train[['DAYS_BIRTH','TARGET']].copy()\nage_data['YEAR_BIRTH']=age_data['DAYS_BIRTH']/365\nage_data['YEARS_BINNED']=pd.cut(age_data['YEAR_BIRTH'],bins=np.linspace(20,70,num=11))\n\nage_data.head(10)",
      "execution_count": null,
      "outputs": []
    },
    {
      "metadata": {
        "trusted": false,
        "_uuid": "87fd467edee23ecae1279ababddd20549971a110"
      },
      "cell_type": "code",
      "source": "age_groups=age_data.groupby('YEARS_BINNED').mean()\nage_groups",
      "execution_count": null,
      "outputs": []
    },
    {
      "metadata": {
        "trusted": false,
        "_uuid": "0d4626250b8b3b24bebf10db3a940d814b3dca83"
      },
      "cell_type": "code",
      "source": "plt.figure(figsize=(8,8))\n\nplt.bar(age_groups.index.astype(str),100*age_groups['TARGET'])\n\nplt.xticks(rotation=75)\nplt.xlabel('Age Group (years)')\nplt.ylabel('Failure to Repay (%)')\nplt.title('Failure to Repay by Age Group')",
      "execution_count": null,
      "outputs": []
    },
    {
      "metadata": {
        "_uuid": "1684db6684f58df1312d3af794ee1048761f1a78"
      },
      "cell_type": "markdown",
      "source": "## Exterior data source"
    },
    {
      "metadata": {
        "trusted": false,
        "_uuid": "6cd1bcec0a08a2f9826bbddfc01d1f1512cde5af"
      },
      "cell_type": "code",
      "source": "ext_data=app_train[['TARGET','EXT_SOURCE_1','EXT_SOURCE_2','EXT_SOURCE_3','DAYS_BIRTH']]\n\next_data_corrs=ext_data.corr()\next_data_corrs",
      "execution_count": null,
      "outputs": []
    },
    {
      "metadata": {
        "trusted": false,
        "_uuid": "0eb0171480c6d2ab55062174287cc33ed8c9ae30"
      },
      "cell_type": "code",
      "source": "plt.figure(figsize=(8,6))\n\nsns.heatmap(ext_data_corrs, cmap=plt.cm.RdYlBu_r,vmin=-0.15,annot=True,vmax=0.60)",
      "execution_count": null,
      "outputs": []
    },
    {
      "metadata": {
        "trusted": false,
        "_uuid": "618ab859a82f906e088273504978aae35cc90be9"
      },
      "cell_type": "code",
      "source": "",
      "execution_count": null,
      "outputs": []
    },
    {
      "metadata": {
        "trusted": false,
        "_uuid": "fc4707a4b68f420b795d67b479ca8aca1901987a"
      },
      "cell_type": "code",
      "source": "plt.figure(figsize=(10,12))\nfor i,term in enumerate(['EXT_SOURCE_1','EXT_SOURCE_2','EXT_SOURCE_3']):\n    plt.subplot(3,1,i+1)\n    sns.kdeplot(app_train.loc[app_train['TARGET']==0,term],label='target==0')\n    sns.kdeplot(app_train.loc[app_train['TARGET']==1,term],label='target==1')\n    \n    plt.title('Distribution of %s by Target value'%term)\n    plt.xlabel('%s'%term)\n    plt.ylabel('Density')\n    \nplt.tight_layout(h_pad=2.5)",
      "execution_count": null,
      "outputs": []
    },
    {
      "metadata": {
        "scrolled": true,
        "trusted": false,
        "_uuid": "7aa90426ccee8546239d097d64a72878bde262d6"
      },
      "cell_type": "code",
      "source": "# Copy the data for plotting\nplot_data = ext_data.drop(columns = ['DAYS_BIRTH']).copy()\n\n# Add in the age of the client in years\nplot_data['YEAR_BIRTH'] = age_data['YEAR_BIRTH']\n\n# Drop na values and limit to first 100000 rows\nplot_data = plot_data.dropna().loc[:100000, :]\n\n# Function to calculate correlation coefficient between two columns\ndef corr_func(x, y, **kwargs):\n    r = np.corrcoef(x, y)[0][1]\n    ax = plt.gca()\n    ax.annotate(\"r = {:.2f}\".format(r),\n                xy=(.2, .8), xycoords=ax.transAxes,\n                size = 20)\n\n# Create the pairgrid object\ngrid = sns.PairGrid(data = plot_data, size = 3, diag_sharey=False,\n                    hue = 'TARGET', \n                    vars = [x for x in list(plot_data.columns) if x != 'TARGET'])\n\n# Upper is a scatter plot\ngrid.map_upper(plt.scatter, alpha = 0.2)\n\n# Diagonal is a histogram\ngrid.map_diag(sns.kdeplot)\n\n# Bottom is density plot\ngrid.map_lower(sns.kdeplot, cmap = plt.cm.OrRd_r);\n\nplt.suptitle('Ext Source and Age Features Pairs Plot', size = 32, y = 1.05);",
      "execution_count": null,
      "outputs": []
    },
    {
      "metadata": {
        "_uuid": "22f684041561f8d631e4ce94192df0d9b79f25d0"
      },
      "cell_type": "markdown",
      "source": "## Feature engineering"
    },
    {
      "metadata": {
        "_uuid": "dac02fa4129fa4f0a3c7b6c63c8d7c98876ddb0a"
      },
      "cell_type": "markdown",
      "source": "### Polynomial Features"
    },
    {
      "metadata": {
        "trusted": false,
        "_uuid": "92abeea9721aac87b846e0e92ae795c45d5dd007"
      },
      "cell_type": "code",
      "source": "poly_features=app_train[['EXT_SOURCE_1','EXT_SOURCE_2','EXT_SOURCE_3','DAYS_BIRTH']].copy()\npoly_features_test=app_train[['EXT_SOURCE_1','EXT_SOURCE_2','EXT_SOURCE_3','DAYS_BIRTH']].copy()\n\nfrom sklearn.preprocessing import Imputer\nimputer=Imputer(strategy='median')\n\npoly_features=imputer.fit_transform(poly_features)\n\npoly_features_test=imputer.transform(poly_features_test)\n\nfrom sklearn.preprocessing import PolynomialFeatures\n\npoly_transformer=PolynomialFeatures(degree=3)\n\n",
      "execution_count": null,
      "outputs": []
    },
    {
      "metadata": {
        "trusted": false,
        "_uuid": "e2d2d3fccdd59c37e8b92887f9540aea5ee0b5a2"
      },
      "cell_type": "code",
      "source": "\n# Train the polynomial features\npoly_transformer.fit(poly_features)\n\n# Transform the features\npoly_features = poly_transformer.transform(poly_features)\npoly_features_test = poly_transformer.transform(poly_features_test)\nprint('Polynomial Features shape: ', poly_features.shape)\n",
      "execution_count": null,
      "outputs": []
    },
    {
      "metadata": {
        "trusted": false,
        "_uuid": "856961dbbb03df55aae73e72af492c54d2c375cc"
      },
      "cell_type": "code",
      "source": "poly_transformer.get_feature_names(input_features=['EXT_SOURCE_1','EXT_SOURCE_2','EXT_SOURCE_3','DAYS_BIRTH'])[:15]",
      "execution_count": null,
      "outputs": []
    },
    {
      "metadata": {
        "trusted": false,
        "_uuid": "828f944c19ae9c8b791c1ea88b63500948b5bf38"
      },
      "cell_type": "code",
      "source": "poly_features=pd.DataFrame(poly_features,columns=poly_transformer.get_feature_names(input_features=['EXT_SOURCE_1','EXT_SOURCE_2','EXT_SOURCE_3','DAYS_BIRTH']))\n\npoly_features['TARGET']=app_train['TARGET'].copy()\n\npoly_corr=poly_features.corr()['TARGET'].sort_values()\n\nprint(poly_corr.head(10))\nprint(poly_corr.tail(10))",
      "execution_count": null,
      "outputs": []
    },
    {
      "metadata": {
        "trusted": false,
        "_uuid": "ecc74a3cd6abbb3d1ef31bc88fd88d6eb352ffd2"
      },
      "cell_type": "code",
      "source": "poly_features_test=pd.DataFrame(poly_features_test,columns=poly_transformer.get_feature_names(input_features=['EXT_SOURCE_1','EXT_SOURCE_2','EXT_SOURCE_3','DAYS_BIRTH']))\n\npoly_features['SK_ID_CURR']=app_train['SK_ID_CURR'].copy()\n\napp_train_poly=app_train.merge(poly_features, how='left',on='SK_ID_CURR')\n\npoly_features_test['SK_ID_CURR']=app_test['SK_ID_CURR'].copy()\n\napp_test_poly=app_test.merge(poly_features_test, how='left',on='SK_ID_CURR')\n\napp_train_poly,app_test_poly=app_train_poly.align(app_test_poly,join='inner',axis=1)\n\nprint('Training data with polynomial features shape: ',app_train_poly.shape)\nprint('Testing data with polynomial features shape: ',app_test_poly.shape)\n",
      "execution_count": null,
      "outputs": []
    },
    {
      "metadata": {
        "_uuid": "fe25452c38b4edba113b6c716741e2c038550e88"
      },
      "cell_type": "markdown",
      "source": "## Domain Knowledge Features"
    },
    {
      "metadata": {
        "trusted": false,
        "_uuid": "a79106070d07fb9c7836fc61d7bb8906762cfbcf"
      },
      "cell_type": "code",
      "source": "app_train_domain=app_train.copy()\napp_test_domain=app_test.copy()",
      "execution_count": null,
      "outputs": []
    },
    {
      "metadata": {
        "trusted": false,
        "_uuid": "f9945f19fc1984a9ebdc485781c86b2617a9dfd2"
      },
      "cell_type": "code",
      "source": "app_train_domain['CREDIT_INCOME_PERCENT']=app_train_domain['AMT_CREDIT']/app_train_domain['AMT_INCOME_TOTAL']\n\napp_train_domain['ANNUITY_INCOME_PERCENT']=app_train_domain['AMT_ANNUITY']/app_train_domain['AMT_INCOME_TOTAL']\n\napp_train_domain['CREDIT_TERM']=app_train_domain['AMT_ANNUITY']/app_train_domain['AMT_CREDIT']\n\napp_train_domain['DAYS_EMPLOYED_PERCENT']=app_train_domain['DAYS_EMPLOYED']/app_train_domain['DAYS_BIRTH']\n\n",
      "execution_count": null,
      "outputs": []
    },
    {
      "metadata": {
        "trusted": false,
        "_uuid": "eeec3fc755f4a22db6d88ecaafe68f180353cbdf"
      },
      "cell_type": "code",
      "source": "app_test_domain['CREDIT_INCOME_PERCENT']=app_test_domain['AMT_CREDIT']/app_test_domain['AMT_INCOME_TOTAL']\n\napp_test_domain['ANNUITY_INCOME_PERCENT']=app_test_domain['AMT_ANNUITY']/app_test_domain['AMT_INCOME_TOTAL']\n\napp_test_domain['CREDIT_TERM']=app_test_domain['AMT_ANNUITY']/app_test_domain['AMT_CREDIT']\n\napp_test_domain['DAYS_EMPLOYED_PERCENT']=app_test_domain['DAYS_EMPLOYED']/app_test_domain['DAYS_BIRTH']\n",
      "execution_count": null,
      "outputs": []
    },
    {
      "metadata": {
        "trusted": false,
        "_uuid": "2e246f22fccf49c9405099791888f501c89e1436"
      },
      "cell_type": "code",
      "source": "plt.figure(figsize=(12,20))\n\nfor i,feature in enumerate(['CREDIT_INCOME_PERCENT','ANNUITY_INCOME_PERCENT','CREDIT_TERM','DAYS_EMPLOYED_PERCENT']):\n    plt.subplot(4,1,i+1)\n    \n    sns.kdeplot(app_train_domain.loc[app_train_domain['TARGET']==0,feature],label='target==0')\n    sns.kdeplot(app_train_domain.loc[app_train_domain['TARGET']==1,feature],label='target==1')\n    \n    plt.title('Distribution of %s by Target Value'%feature)\n    plt.xlabel('%s'%feature)\n    plt.ylabel('Density')\n    \nplt.tight_layout(h_pad=2.5)",
      "execution_count": null,
      "outputs": []
    },
    {
      "metadata": {
        "trusted": false,
        "_uuid": "f8a3d3771ca62816b26191dbd3af1819bab43b84"
      },
      "cell_type": "code",
      "source": "from sklearn.preprocessing import MinMaxScaler,Imputer\n\nif 'TARGET' in app_train:\n    train=app_train.drop(columns=['TARGET'])\nelse:\n    train=app_train.copy()\n    \nfeatures=list(train.columns)\n\ntest=app_test.copy()\n\nimputer=Imputer(strategy='median')\n\nscaler=MinMaxScaler(feature_range=(0,1))\n\nimputer.fit(train)\n\ntrain=imputer.transform(train)\n\ntest=imputer.transform(test)\n\nscaler.fit(train)\n\ntrain=scaler.transform(train)\n\ntest=scaler.transform(test)\n\nprint('Training data shape',train.shape)\nprint('Testing data shape',test.shape)\n\n",
      "execution_count": null,
      "outputs": []
    },
    {
      "metadata": {
        "trusted": false,
        "_uuid": "23bdc2f47642286a0f335f9c2854aa638f2891fd"
      },
      "cell_type": "code",
      "source": "from sklearn.linear_model import LogisticRegression\n\nlog_reg=LogisticRegression(C=0.0001)\n\nlog_reg.fit(train,train_labels)",
      "execution_count": null,
      "outputs": []
    },
    {
      "metadata": {
        "trusted": false,
        "_uuid": "da6e23d3558e2e0cf41e48fee2d1f76edd6aa079"
      },
      "cell_type": "code",
      "source": "log_reg_pred=log_reg.predict_proba(test)[:,1]",
      "execution_count": null,
      "outputs": []
    },
    {
      "metadata": {
        "trusted": false,
        "_uuid": "6305637f46a143c5d1268ff25da68b82e20aac7c"
      },
      "cell_type": "code",
      "source": "submit=app_test[['SK_ID_CURR']]\nsubmit['TARGET']=log_reg_pred\nsubmit.head()",
      "execution_count": null,
      "outputs": []
    },
    {
      "metadata": {
        "trusted": false,
        "_uuid": "a7708d918a78355395535e5fa55df2038c1661b6"
      },
      "cell_type": "code",
      "source": "submit.to_csv('log_reg_baseline.csv',index=False)",
      "execution_count": null,
      "outputs": []
    },
    {
      "metadata": {
        "_uuid": "f58a386a32165eec473b40d36071e53b59360aa5"
      },
      "cell_type": "markdown",
      "source": "## Improved Model: Random Forest"
    },
    {
      "metadata": {
        "trusted": false,
        "_uuid": "df5382cb81c53d2f747972dcab5f9d4936a49d57"
      },
      "cell_type": "code",
      "source": "from sklearn.ensemble import RandomForestClassifier\n\nrandom_forest=RandomForestClassifier(n_estimators=100,random_state=50,verbose=1,n_jobs=-1)",
      "execution_count": null,
      "outputs": []
    },
    {
      "metadata": {
        "trusted": false,
        "_uuid": "646f2345463d60766687e80d4bd94825848d95fe"
      },
      "cell_type": "code",
      "source": "random_forest.fit(train,train_labels)\n\nfeature_importance_values=random_forest.feature_importances_\nfeature_importances=pd.DataFrame({'feature':features,'importance': feature_importance_values})\n\npredictions=random_forest.predict_proba(test)[:,1]",
      "execution_count": null,
      "outputs": []
    },
    {
      "metadata": {
        "trusted": false,
        "_uuid": "189abf04ec6d4a9c705bc6117dae8dd78ab5e110"
      },
      "cell_type": "code",
      "source": "submit=app_test['SK_ID_CURR']\nsubmit['TARGET']=predictions\n\nsubmit.to_csv('random_forest_baseline.csv',index=False)",
      "execution_count": null,
      "outputs": []
    },
    {
      "metadata": {
        "_uuid": "a6b287c620b9135623b7f6734ad439c9ba595730"
      },
      "cell_type": "markdown",
      "source": "## Make Predictions using Engineered Features"
    },
    {
      "metadata": {
        "trusted": false,
        "_uuid": "69d1055bb51bba11268126740669e6eedc468545"
      },
      "cell_type": "code",
      "source": "poly_features_names=list(app_train_poly.columns)\n\nimputer=Imputer(strategy='median')\n\npoly_features=imputer.fit_transform(app_train_poly)\npoly_features_test=imputer.transform(app_test_poly)\n\nscaler=MinMaxScaler(feature_range=(0,1))\n\npoly_features=scaler.fit_transform(poly_features)\npoly_features_test=scaler.transform(poly_features_test)\n\nrandom_forest_poly=RandomForestClassifier(n_estimators=100,random_state=50,verbose=1,n_jobs=-1)\n",
      "execution_count": null,
      "outputs": []
    },
    {
      "metadata": {
        "trusted": false,
        "_uuid": "c782ee412fda12df705b31fdae692f373beda3e0"
      },
      "cell_type": "code",
      "source": "random_forest_poly.fit(poly_features,train_labels)\n\npredictions=random_forest_poly.predict_proba(poly_features_test)[:,1]",
      "execution_count": null,
      "outputs": []
    },
    {
      "metadata": {
        "trusted": false,
        "_uuid": "0a7f94b871227daf5d8ad85a4039e0018ad4c84e"
      },
      "cell_type": "code",
      "source": "submit=app_test[['SK_ID_CURR']]\n\nsubmit['TARGET']=predictions\n\nsubmit.to_csv('random_forest_baseline_engineered.csv',index=False)",
      "execution_count": null,
      "outputs": []
    },
    {
      "metadata": {
        "_uuid": "9ed936ed84235c421f3ed2fc4f5dbbc3ddde911a"
      },
      "cell_type": "markdown",
      "source": "## Testing Domain Features"
    },
    {
      "metadata": {
        "trusted": false,
        "_uuid": "112c3324080fcfa5484be7e7284d242588b98de3"
      },
      "cell_type": "code",
      "source": "app_train_domain=app_train_domain.drop(columns='TARGET')\n\ndomain_features_names=list(app_train_domain.columns)\n\ndomain_features=imputer.fit_transform(app_train_domain)\n\ndomain_features_test=imputer.transform(app_test_domain)\n\nscaler=MinMaxScaler(feature_range=(0,1))\n\ndomain_features=scaler.fit_transform(domain_features)\ndomain_features_test=scaler.transform(domain_features_test)\n\nrandom_forest_domain=RandomForestClassifier(n_estimators=100,random_state=50,verbose=1,n_jobs=-1)\n\nrandom_forest_domain.fit(domain_features,train_labels)\n\nfeature_importances_values_domain=random_forest_domain.feature_importances_\nfeature_importances_domain=pd.DataFrame({'feature':domain_features_names,'importance':feature_importances_values_domain})\n\npredictions=random_forest_domain.predict_proba(domain_features_test)[:,1]",
      "execution_count": null,
      "outputs": []
    },
    {
      "metadata": {
        "trusted": false,
        "_uuid": "d95b0a1879a1c3c2a9c5a3ce674dc09fb4e4f151"
      },
      "cell_type": "code",
      "source": "submit=app_test[['SK_ID_CURR']]\nsubmit['TARGET']=predictions\n\nsubmit.to_csv('random_forest_baseline_domain.csv',index=False)",
      "execution_count": null,
      "outputs": []
    },
    {
      "metadata": {
        "_uuid": "e33c221aa6580c91507e6e957c4f45e240c76df8"
      },
      "cell_type": "markdown",
      "source": "## Feature importance"
    },
    {
      "metadata": {
        "trusted": true,
        "_uuid": "98f1c34671c1585b4e6ad092970278b5d89bcf68"
      },
      "cell_type": "code",
      "source": "def plot_feature_importances(df):\n    df=df.sort_values('importance',ascending=False).reset_index()\n    df['importance_normalized']=df['importance']/df['importance'].sum()\n    \n    plt.figure(figsize=(10,6))\n    ax=plt.subplot()\n    \n    ax.barh(list(reversed(list(df.index[:15]))),df['importance_normalized'].head(15), align='center',edgecolor='k')\n    \n    ax.set_yticks(list(reversed(list(df.index[:15]))))\n    ax.set_yticklabels(df['feature'].head(15))\n    \n    plt.xlabel('Normalized Importance')\n    plt.title('Feature Importances')\n    plt.show()\n    \n    return df",
      "execution_count": null,
      "outputs": []
    },
    {
      "metadata": {
        "trusted": false,
        "_uuid": "cf6facb7de9dcf45a846bd9a5d0ce503339f348d"
      },
      "cell_type": "code",
      "source": "feature_importances_sorted=plot_feature_importances(feature_importances)",
      "execution_count": null,
      "outputs": []
    },
    {
      "metadata": {
        "trusted": false,
        "_uuid": "60d29bdce86e3b106c02f9c5f27ef00406d7aa66"
      },
      "cell_type": "code",
      "source": "feature_importances_domain_sorted=plot_feature_importances(feature_importances_domain)",
      "execution_count": null,
      "outputs": []
    },
    {
      "metadata": {
        "trusted": false,
        "_uuid": "56c4773a58f3dcd9d30849eaebc128cf7514003a"
      },
      "cell_type": "code",
      "source": "",
      "execution_count": null,
      "outputs": []
    }
  ],
  "metadata": {
    "kernelspec": {
      "display_name": "Python 3",
      "language": "python",
      "name": "python3"
    },
    "language_info": {
      "name": "python",
      "version": "3.6.6",
      "mimetype": "text/x-python",
      "codemirror_mode": {
        "name": "ipython",
        "version": 3
      },
      "pygments_lexer": "ipython3",
      "nbconvert_exporter": "python",
      "file_extension": ".py"
    }
  },
  "nbformat": 4,
  "nbformat_minor": 1
}